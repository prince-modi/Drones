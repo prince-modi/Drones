{
 "cells": [
  {
   "cell_type": "code",
   "execution_count": 1,
   "id": "317a9104",
   "metadata": {},
   "outputs": [],
   "source": [
    "import pandas as pd\n",
    "import numpy as np"
   ]
  },
  {
   "cell_type": "code",
   "execution_count": 163,
   "id": "f90c1cfb",
   "metadata": {},
   "outputs": [],
   "source": [
    "ground = pd.read_csv('groundtruth-vf.csv',delimiter=',')\n",
    "test = pd.read_csv('csv/xl.csv',delimiter=',')"
   ]
  },
  {
   "cell_type": "code",
   "execution_count": 164,
   "id": "f6c1fc95",
   "metadata": {},
   "outputs": [],
   "source": [
    "ground=ground.sort_values('img')\n",
    "ground=ground.reset_index(drop=True)\n",
    "ground.to_csv('tes.csv')"
   ]
  },
  {
   "cell_type": "code",
   "execution_count": 165,
   "id": "6909c42c",
   "metadata": {},
   "outputs": [],
   "source": [
    "test=test.sort_values('img')\n",
    "test=test.reset_index(drop=True)"
   ]
  },
  {
   "cell_type": "code",
   "execution_count": 169,
   "id": "ed73d9a8",
   "metadata": {},
   "outputs": [
    {
     "data": {
      "text/html": [
       "<div>\n",
       "<style scoped>\n",
       "    .dataframe tbody tr th:only-of-type {\n",
       "        vertical-align: middle;\n",
       "    }\n",
       "\n",
       "    .dataframe tbody tr th {\n",
       "        vertical-align: top;\n",
       "    }\n",
       "\n",
       "    .dataframe thead th {\n",
       "        text-align: right;\n",
       "    }\n",
       "</style>\n",
       "<table border=\"1\" class=\"dataframe\">\n",
       "  <thead>\n",
       "    <tr style=\"text-align: right;\">\n",
       "      <th></th>\n",
       "      <th>class-name</th>\n",
       "      <th>conf</th>\n",
       "    </tr>\n",
       "  </thead>\n",
       "  <tbody>\n",
       "    <tr>\n",
       "      <th>0</th>\n",
       "      <td>person</td>\n",
       "      <td>0.92</td>\n",
       "    </tr>\n",
       "    <tr>\n",
       "      <th>1</th>\n",
       "      <td>person</td>\n",
       "      <td>0.92</td>\n",
       "    </tr>\n",
       "    <tr>\n",
       "      <th>2</th>\n",
       "      <td>person;car</td>\n",
       "      <td>0.91;0.91</td>\n",
       "    </tr>\n",
       "    <tr>\n",
       "      <th>3</th>\n",
       "      <td>person</td>\n",
       "      <td>0.93</td>\n",
       "    </tr>\n",
       "    <tr>\n",
       "      <th>4</th>\n",
       "      <td>person</td>\n",
       "      <td>0.93</td>\n",
       "    </tr>\n",
       "    <tr>\n",
       "      <th>...</th>\n",
       "      <td>...</td>\n",
       "      <td>...</td>\n",
       "    </tr>\n",
       "    <tr>\n",
       "      <th>995</th>\n",
       "      <td>person</td>\n",
       "      <td>0.93</td>\n",
       "    </tr>\n",
       "    <tr>\n",
       "      <th>996</th>\n",
       "      <td>person</td>\n",
       "      <td>0.89</td>\n",
       "    </tr>\n",
       "    <tr>\n",
       "      <th>997</th>\n",
       "      <td>person</td>\n",
       "      <td>0.93</td>\n",
       "    </tr>\n",
       "    <tr>\n",
       "      <th>998</th>\n",
       "      <td>person;truck</td>\n",
       "      <td>0.92;0.66</td>\n",
       "    </tr>\n",
       "    <tr>\n",
       "      <th>999</th>\n",
       "      <td>person</td>\n",
       "      <td>0.91</td>\n",
       "    </tr>\n",
       "  </tbody>\n",
       "</table>\n",
       "<p>1000 rows × 2 columns</p>\n",
       "</div>"
      ],
      "text/plain": [
       "       class-name       conf\n",
       "0          person       0.92\n",
       "1          person       0.92\n",
       "2      person;car  0.91;0.91\n",
       "3          person       0.93\n",
       "4          person       0.93\n",
       "..            ...        ...\n",
       "995        person       0.93\n",
       "996        person       0.89\n",
       "997        person       0.93\n",
       "998  person;truck  0.92;0.66\n",
       "999        person       0.91\n",
       "\n",
       "[1000 rows x 2 columns]"
      ]
     },
     "execution_count": 169,
     "metadata": {},
     "output_type": "execute_result"
    }
   ],
   "source": [
    "imp=ground[['class-name','conf']]\n",
    "timp=test[['class-name','conf']]\n",
    "imp"
   ]
  },
  {
   "cell_type": "code",
   "execution_count": 167,
   "id": "9f847555",
   "metadata": {},
   "outputs": [
    {
     "name": "stdout",
     "output_type": "stream",
     "text": [
      "1000\n",
      "901 30 69 1\n"
     ]
    }
   ],
   "source": [
    "results=dict()\n",
    "tp=0\n",
    "tn=0\n",
    "fp=0\n",
    "fn=0\n",
    "print(len(imp))\n",
    "for i in range(len(imp)):\n",
    "    tru=str(imp.loc[i,'class-name']).split(';')\n",
    "    comp=str(timp.loc[i,'class-name']).split(';')\n",
    "    if len(tru)==len(comp):\n",
    "        temp=0\n",
    "        for j in range(len(tru)):\n",
    "            if tru[j]=='nan' and comp[j]=='nan':\n",
    "                tn+=1\n",
    "            elif tru[j]==comp[j]:\n",
    "                temp+=1\n",
    "        if temp == len(tru):\n",
    "            tp+=1\n",
    "#             print('tp',tru,comp)\n",
    "        else:\n",
    "            if sorted(tru)==sorted(comp):\n",
    "                tp+=1\n",
    "#                 print('tp',tru,comp)\n",
    "            else:\n",
    "                fp+=1\n",
    "#                 print('fp',tru,comp)\n",
    "    elif len(tru)<len(comp):\n",
    "        fp+=1        \n",
    "#         print('fp',tru,comp)\n",
    "    elif len(tru)>len(comp):\n",
    "        fn+=1\n",
    "#         print('fn',tru,comp)\n",
    "print(tp,fp,fn,tn)"
   ]
  },
  {
   "cell_type": "code",
   "execution_count": 168,
   "id": "e3bbeb7d",
   "metadata": {},
   "outputs": [
    {
     "data": {
      "image/png": "[encoded data removed]",
      "text/plain": [
       "<Figure size 640x480 with 2 Axes>"
      ]
     },
     "metadata": {},
     "output_type": "display_data"
    }
   ],
   "source": [
    "from sklearn import metrics\n",
    "fig, ax = plt.subplots() \n",
    "\n",
    "confusion_matrix=np.array([[tn,fp],[fn,tp]])\n",
    "\n",
    "cm_display = metrics.ConfusionMatrixDisplay(confusion_matrix = confusion_matrix, display_labels = [False, True])\n",
    "# ax.matshow(confusion_matrix, alpha=0.5, cmap='twilight_shifted_r')\n",
    "for i in range(confusion_matrix.shape[0]):\n",
    "    for j in range(confusion_matrix.shape[1]):\n",
    "        ax.text(x=j, y=i,s=confusion_matrix[i, j], va='center', ha='center', size='xx-large')\n",
    "\n",
    "plt.title('Yolov8-xlarge', fontsize=18)\n",
    "# ax.set_xticks([0,1])\n",
    "# ax.set_xticklabels(['False','True'])\n",
    "# ax.set_yticks([0,1])\n",
    "# ax.set_yticklabels(['False','True'])\n",
    "# plt.show() \n",
    "cm_display.plot(ax=ax,cmap='RdYlBu_r',include_values=False)\n",
    "plt.savefig('xlarge.jpg')"
   ]
  },
  {
   "cell_type": "markdown",
   "id": "aa387130",
   "metadata": {},
   "source": [
    "'Accent', 'Accent_r', 'Blues', 'Blues_r', 'BrBG', 'BrBG_r', 'BuGn', 'BuGn_r', 'BuPu', 'BuPu_r', 'CMRmap', 'CMRmap_r', 'Dark2', 'Dark2_r', 'GnBu', 'GnBu_r', 'Greens', 'Greens_r', 'Greys', 'Greys_r', 'OrRd', 'OrRd_r', 'Oranges', 'Oranges_r', 'PRGn', 'PRGn_r', 'Paired', 'Paired_r', 'Pastel1', 'Pastel1_r', 'Pastel2', 'Pastel2_r', 'PiYG', 'PiYG_r', 'PuBu', 'PuBuGn', 'PuBuGn_r', 'PuBu_r', 'PuOr', 'PuOr_r', 'PuRd', 'PuRd_r', 'Purples', 'Purples_r', 'RdBu', 'RdBu_r', 'RdGy', 'RdGy_r', 'RdPu', 'RdPu_r', 'RdYlBu', 'RdYlBu_r', 'RdYlGn', 'RdYlGn_r', 'Reds', 'Reds_r', 'Set1', 'Set1_r', 'Set2', 'Set2_r', 'Set3', 'Set3_r', 'Spectral', 'Spectral_r', 'Wistia', 'Wistia_r', 'YlGn', 'YlGnBu', 'YlGnBu_r', 'YlGn_r', 'YlOrBr', 'YlOrBr_r', 'YlOrRd', 'YlOrRd_r', 'afmhot', 'afmhot_r', 'autumn', 'autumn_r', 'binary', 'binary_r', 'bone', 'bone_r', 'brg', 'brg_r', 'bwr', 'bwr_r', 'cividis', 'cividis_r', 'cool', 'cool_r', 'coolwarm', 'coolwarm_r', 'copper', 'copper_r', 'cubehelix', 'cubehelix_r', 'flag', 'flag_r', 'gist_earth', 'gist_earth_r', 'gist_gray', 'gist_gray_r', 'gist_heat', 'gist_heat_r', 'gist_ncar', 'gist_ncar_r', 'gist_rainbow', 'gist_rainbow_r', 'gist_stern', 'gist_stern_r', 'gist_yarg', 'gist_yarg_r', 'gnuplot', 'gnuplot2', 'gnuplot2_r', 'gnuplot_r', 'gray', 'gray_r', 'hot', 'hot_r', 'hsv', 'hsv_r', 'inferno', 'inferno_r', 'jet', 'jet_r', 'magma', 'magma_r', 'nipy_spectral', 'nipy_spectral_r', 'ocean', 'ocean_r', 'pink', 'pink_r', 'plasma', 'plasma_r', 'prism', 'prism_r', 'rainbow', 'rainbow_r', 'seismic', 'seismic_r', 'spring', 'spring_r', 'summer', 'summer_r', 'tab10', 'tab10_r', 'tab20', 'tab20_r', 'tab20b', 'tab20b_r', 'tab20c', 'tab20c_r', 'terrain', 'terrain_r', 'turbo', 'turbo_r', 'twilight', 'twilight_r', 'twilight_shifted', 'twilight_shifted_r', 'viridis', 'viridis_r', 'winter', 'winter_r'"
   ]
  }
 ],
 "metadata": {
  "kernelspec": {
   "display_name": "Python [conda env:maskrcnn]",
   "language": "python",
   "name": "conda-env-maskrcnn-py"
  },
  "language_info": {
   "codemirror_mode": {
    "name": "ipython",
    "version": 3
   },
   "file_extension": ".py",
   "mimetype": "text/x-python",
   "name": "python",
   "nbconvert_exporter": "python",
   "pygments_lexer": "ipython3",
   "version": "3.8.16"
  }
 },
 "nbformat": 4,
 "nbformat_minor": 5
}
